{
 "cells": [
  {
   "cell_type": "code",
   "execution_count": 3,
   "metadata": {},
   "outputs": [
    {
     "name": "stdout",
     "output_type": "stream",
     "text": [
      "Looking up references...\n",
      "\n",
      "--- Reference PID: 6 ---\n",
      "Content: ## Persona: Researcher\n",
      "- Interested in academic papers and experiments.\n",
      "- Follows latest research in AI/ML and data science.\n",
      "- Likes technical documentation and case studies.\n",
      "- Interested in academic papers and experiments.\n",
      "\n",
      "--- Reference PID: 1 ---\n",
      "Content: ## Persona: Analyst\n",
      "- Enjoys data analysis, dashboards, and reports.\n",
      "- Follows market and business analytics trends.\n",
      "\n",
      "## Persona: Developer\n",
      "- Likes coding tutorials and practical projects.\n",
      "- Follows tech blogs and open-source contributions.\n",
      "- Engages with AI/ML development guides.\n",
      "\n",
      "--- Reference PID: 3 ---\n",
      "Content: ## Persona: Engineer\n",
      "- Follows tech research and innovation news.\n",
      "- Interested in practical engineering projects.\n",
      "- Likes building prototypes and experiments.\n"
     ]
    }
   ],
   "source": [
    "import os\n",
    "import joblib\n",
    "\n",
    "# Define the path to your persona docs file\n",
    "# Replace os.path.dirname(__file__) with your current working directory's path\n",
    "# You can use a direct path, or a more portable method like below\n",
    "EMB_DIR = os.path.join(os.getcwd(), \"embeddings\")\n",
    "PERSONA_DOCS_PATH = r\"G:\\Qeagle\\embeddings\\persona_docs.pkl\"\n",
    "\n",
    "# Load the DataFrame\n",
    "persona_df = joblib.load(PERSONA_DOCS_PATH)\n",
    "\n",
    "# The references from your API response\n",
    "references = [6, 1, 3]\n",
    "\n",
    "print(\"Looking up references...\")\n",
    "\n",
    "for pid in references:\n",
    "    # Use .iloc to get the row by its integer index (pid)\n",
    "    doc = persona_df.iloc[pid]\n",
    "    print(f\"\\n--- Reference PID: {pid} ---\")\n",
    "    print(f\"Content: {doc['text']}\")"
   ]
  }
 ],
 "metadata": {
  "kernelspec": {
   "display_name": "venv",
   "language": "python",
   "name": "python3"
  },
  "language_info": {
   "codemirror_mode": {
    "name": "ipython",
    "version": 3
   },
   "file_extension": ".py",
   "mimetype": "text/x-python",
   "name": "python",
   "nbconvert_exporter": "python",
   "pygments_lexer": "ipython3",
   "version": "3.11.5"
  }
 },
 "nbformat": 4,
 "nbformat_minor": 2
}
