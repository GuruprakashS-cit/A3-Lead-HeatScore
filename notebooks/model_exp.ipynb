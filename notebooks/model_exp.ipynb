{
 "cells": [
  {
   "cell_type": "code",
   "execution_count": 1,
   "metadata": {},
   "outputs": [],
   "source": [
    "# src/train_classifier.py\n",
    "\n",
    "import pandas as pd\n",
    "from sklearn.model_selection import train_test_split\n",
    "from sklearn.preprocessing import OneHotEncoder\n",
    "from sklearn.compose import ColumnTransformer\n",
    "from sklearn.pipeline import Pipeline\n",
    "from sklearn.linear_model import LogisticRegression\n",
    "from sklearn.metrics import classification_report, confusion_matrix, f1_score\n"
   ]
  },
  {
   "cell_type": "code",
   "execution_count": 2,
   "metadata": {},
   "outputs": [],
   "source": [
    "# 1. Load dataset\n",
    "df = pd.read_csv(r\"../data/leads.csv\")\n",
    "\n",
    "# Features (X) and target (y)\n",
    "X = df.drop(columns=[\"heat_label\", \"lead_id\"])  # drop target + ID\n",
    "y = df[\"heat_label\"]\n"
   ]
  },
  {
   "cell_type": "code",
   "execution_count": 3,
   "metadata": {},
   "outputs": [],
   "source": [
    "# 2. Train/Val/Test Split\n",
    "X_train, X_temp, y_train, y_temp = train_test_split(\n",
    "    X, y, test_size=0.3, stratify=y, random_state=42\n",
    ")\n",
    "X_val, X_test, y_val, y_test = train_test_split(\n",
    "    X_temp, y_temp, test_size=0.5, stratify=y_temp, random_state=42\n",
    ")\n",
    "\n",
    "# 3. Preprocessing: One-hot encode categorical vars\n",
    "categorical_features = [\"source\", \"region\", \"role\", \"campaign\", \"last_touch\"]\n",
    "numeric_features = [\"recency_days\", \"page_views\", \"prior_course_interest\"]\n",
    "\n",
    "preprocessor = ColumnTransformer(\n",
    "    transformers=[\n",
    "        (\"cat\", OneHotEncoder(handle_unknown=\"ignore\"), categorical_features),\n",
    "        (\"num\", \"passthrough\", numeric_features),\n",
    "    ]\n",
    ")\n",
    "\n"
   ]
  },
  {
   "cell_type": "code",
   "execution_count": 4,
   "metadata": {},
   "outputs": [
    {
     "name": "stdout",
     "output_type": "stream",
     "text": [
      "\n",
      "Classification Report (Validation):\n",
      "              precision    recall  f1-score   support\n",
      "\n",
      "        Cold       0.74      0.88      0.80        90\n",
      "         Hot       0.70      0.93      0.80        28\n",
      "        Warm       0.92      0.79      0.85       182\n",
      "\n",
      "    accuracy                           0.83       300\n",
      "   macro avg       0.79      0.86      0.82       300\n",
      "weighted avg       0.84      0.83      0.83       300\n",
      "\n",
      "\n",
      "Confusion Matrix (Validation):\n",
      "[[ 79   0  11]\n",
      " [  0  26   2]\n",
      " [ 28  11 143]]\n",
      "\n",
      "Macro F1 Score (Validation): 0.816\n"
     ]
    }
   ],
   "source": [
    "# 4. Build pipeline: preprocessing + logistic regression\n",
    "clf = Pipeline(\n",
    "    steps=[\n",
    "        (\"preprocessor\", preprocessor),\n",
    "        (\"classifier\", LogisticRegression(class_weight=\"balanced\", max_iter=1000)),\n",
    "    ]\n",
    ")\n",
    "\n",
    "# 5. Train model\n",
    "clf.fit(X_train, y_train)\n",
    "\n",
    "# 6. Validation results\n",
    "y_val_pred = clf.predict(X_val)\n",
    "\n",
    "print(\"\\nClassification Report (Validation):\")\n",
    "print(classification_report(y_val, y_val_pred))\n",
    "\n",
    "print(\"\\nConfusion Matrix (Validation):\")\n",
    "print(confusion_matrix(y_val, y_val_pred))\n",
    "\n",
    "# 7. Macro F1 Score\n",
    "macro_f1 = f1_score(y_val, y_val_pred, average=\"macro\")\n",
    "print(f\"\\nMacro F1 Score (Validation): {macro_f1:.3f}\")\n"
   ]
  },
  {
   "cell_type": "code",
   "execution_count": 9,
   "metadata": {},
   "outputs": [],
   "source": [
    "from sklearn.preprocessing import LabelEncoder\n",
    "\n",
    "# Encode y\n",
    "le = LabelEncoder()\n",
    "y_train_enc = le.fit_transform(y_train)\n",
    "y_val_enc = le.transform(y_val)\n",
    "y_test_enc = le.transform(y_test)  # for later\n",
    "\n",
    "# Now y_train_enc: 0,1,2 instead of 'Cold','Hot','Warm'\n"
   ]
  },
  {
   "cell_type": "code",
   "execution_count": 10,
   "metadata": {},
   "outputs": [
    {
     "name": "stdout",
     "output_type": "stream",
     "text": [
      "\n",
      "XGBoost Classification Report (Validation):\n",
      "              precision    recall  f1-score   support\n",
      "\n",
      "        Cold       1.00      0.99      0.99        90\n",
      "         Hot       1.00      1.00      1.00        28\n",
      "        Warm       0.99      1.00      1.00       182\n",
      "\n",
      "    accuracy                           1.00       300\n",
      "   macro avg       1.00      1.00      1.00       300\n",
      "weighted avg       1.00      1.00      1.00       300\n",
      "\n",
      "\n",
      "XGBoost Confusion Matrix (Validation):\n",
      "[[ 89   0   1]\n",
      " [  0  28   0]\n",
      " [  0   0 182]]\n",
      "\n",
      "XGBoost Macro F1 Score (Validation): 0.997\n"
     ]
    },
    {
     "name": "stderr",
     "output_type": "stream",
     "text": [
      "g:\\Qeagle\\venv\\Lib\\site-packages\\xgboost\\training.py:183: UserWarning: [19:36:50] WARNING: C:\\actions-runner\\_work\\xgboost\\xgboost\\src\\learner.cc:738: \n",
      "Parameters: { \"use_label_encoder\" } are not used.\n",
      "\n",
      "  bst.update(dtrain, iteration=i, fobj=obj)\n"
     ]
    }
   ],
   "source": [
    "from xgboost import XGBClassifier\n",
    "from sklearn.metrics import classification_report, confusion_matrix, f1_score\n",
    "\n",
    "# Build XGBoost pipeline\n",
    "xgb_clf = Pipeline(\n",
    "    steps=[\n",
    "        (\"preprocessor\", preprocessor),\n",
    "        (\"classifier\", XGBClassifier(\n",
    "            objective=\"multi:softmax\",\n",
    "            eval_metric=\"mlogloss\",\n",
    "            use_label_encoder=False,\n",
    "            random_state=42\n",
    "        )),\n",
    "    ]\n",
    ")\n",
    "\n",
    "# Train XGBoost with encoded labels\n",
    "xgb_clf.fit(X_train, y_train_enc)\n",
    "\n",
    "# Predictions\n",
    "y_val_pred_xgb = xgb_clf.predict(X_val)\n",
    "\n",
    "# Convert predictions back to original labels\n",
    "y_val_pred_xgb_labels = le.inverse_transform(y_val_pred_xgb)\n",
    "\n",
    "# Classification report\n",
    "print(\"\\nXGBoost Classification Report (Validation):\")\n",
    "print(classification_report(y_val, y_val_pred_xgb_labels))\n",
    "\n",
    "# Confusion matrix\n",
    "print(\"\\nXGBoost Confusion Matrix (Validation):\")\n",
    "print(confusion_matrix(y_val, y_val_pred_xgb_labels))\n",
    "\n",
    "# Macro F1 score\n",
    "macro_f1_xgb = f1_score(y_val, y_val_pred_xgb_labels, average=\"macro\")\n",
    "print(f\"\\nXGBoost Macro F1 Score (Validation): {macro_f1_xgb:.3f}\")\n"
   ]
  }
 ],
 "metadata": {
  "kernelspec": {
   "display_name": "venv",
   "language": "python",
   "name": "python3"
  },
  "language_info": {
   "codemirror_mode": {
    "name": "ipython",
    "version": 3
   },
   "file_extension": ".py",
   "mimetype": "text/x-python",
   "name": "python",
   "nbconvert_exporter": "python",
   "pygments_lexer": "ipython3",
   "version": "3.11.5"
  }
 },
 "nbformat": 4,
 "nbformat_minor": 2
}
