{
 "cells": [
  {
   "cell_type": "code",
   "execution_count": 1,
   "metadata": {},
   "outputs": [
    {
     "ename": "NameError",
     "evalue": "name '__file__' is not defined",
     "output_type": "error",
     "traceback": [
      "\u001b[31m---------------------------------------------------------------------------\u001b[39m",
      "\u001b[31mNameError\u001b[39m                                 Traceback (most recent call last)",
      "\u001b[36mCell\u001b[39m\u001b[36m \u001b[39m\u001b[32mIn[1]\u001b[39m\u001b[32m, line 7\u001b[39m\n\u001b[32m      4\u001b[39m \u001b[38;5;28;01mimport\u001b[39;00m\u001b[38;5;250m \u001b[39m\u001b[34;01mos\u001b[39;00m\n\u001b[32m      6\u001b[39m \u001b[38;5;66;03m# Define the path to your data file\u001b[39;00m\n\u001b[32m----> \u001b[39m\u001b[32m7\u001b[39m DATA_PATH = os.path.join(os.path.dirname(\u001b[34;43m__file__\u001b[39;49m), \u001b[33m\"\u001b[39m\u001b[33m../data/leads.csv\u001b[39m\u001b[33m\"\u001b[39m)\n\u001b[32m      8\u001b[39m VALIDATION_DATA_FILE = \u001b[33m\"\u001b[39m\u001b[33m../data/validation_data.pkl\u001b[39m\u001b[33m\"\u001b[39m\n\u001b[32m     10\u001b[39m \u001b[38;5;66;03m# 1. Load the dataset\u001b[39;00m\n",
      "\u001b[31mNameError\u001b[39m: name '__file__' is not defined"
     ]
    }
   ],
   "source": [
    "import pandas as pd\n",
    "import joblib\n",
    "from sklearn.model_selection import train_test_split\n",
    "import os\n",
    "\n",
    "# Define the paths from the project's root directory\n",
    "# This assumes you are running the script from the project's root folder (e.g., G:\\Qeagle)\n",
    "DATA_PATH = \"data/leads.csv\"\n",
    "VALIDATION_DATA_FILE = \"data/validation_data.pkl\"\n",
    "\n",
    "# 1. Load the dataset\n",
    "df = pd.read_csv(DATA_PATH)\n",
    "\n",
    "# Features (X) and target (y)\n",
    "X = df.drop(columns=[\"heat_label\", \"lead_id\"])\n",
    "y = df[\"heat_label\"]\n",
    "\n",
    "# 2. Perform the Train/Val/Test split (same as in your original script)\n",
    "X_train, X_temp, y_train, y_temp = train_test_split(\n",
    "    X, y, test_size=0.3, stratify=y, random_state=42\n",
    ")\n",
    "X_val, X_test, y_val, y_test = train_test_split(\n",
    "    X_temp, y_temp, test_size=0.5, stratify=y_temp, random_state=42\n",
    ")\n",
    "\n",
    "# 3. Save only the validation data\n",
    "os.makedirs(\"data\", exist_ok=True)\n",
    "joblib.dump({\"X_val\": X_val, \"y_val\": y_val}, VALIDATION_DATA_FILE)\n",
    "\n",
    "print(f\"Validation data saved to {VALIDATION_DATA_FILE}\")"
   ]
  }
 ],
 "metadata": {
  "kernelspec": {
   "display_name": "venv",
   "language": "python",
   "name": "python3"
  },
  "language_info": {
   "codemirror_mode": {
    "name": "ipython",
    "version": 3
   },
   "file_extension": ".py",
   "mimetype": "text/x-python",
   "name": "python",
   "nbconvert_exporter": "python",
   "pygments_lexer": "ipython3",
   "version": "3.11.5"
  }
 },
 "nbformat": 4,
 "nbformat_minor": 2
}
