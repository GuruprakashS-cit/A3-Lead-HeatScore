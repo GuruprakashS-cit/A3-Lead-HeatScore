{
 "cells": [
  {
   "cell_type": "code",
   "execution_count": 1,
   "metadata": {},
   "outputs": [
    {
     "name": "stdout",
     "output_type": "stream",
     "text": [
      "Test data saved to ../data/test_data.pkl\n"
     ]
    }
   ],
   "source": [
    "import pandas as pd\n",
    "import joblib\n",
    "from sklearn.model_selection import train_test_split\n",
    "import os\n",
    "\n",
    "# Define the paths from the project's root directory\n",
    "DATA_PATH = \"../data/leads.csv\"\n",
    "TEST_DATA_FILE = \"../data/test_data.pkl\"\n",
    "\n",
    "# 1. Load the dataset\n",
    "df = pd.read_csv(DATA_PATH)\n",
    "\n",
    "# Features (X) and target (y)\n",
    "X = df.drop(columns=[\"heat_label\", \"lead_id\"])\n",
    "y = df[\"heat_label\"]\n",
    "\n",
    "# 2. Perform the Train/Val/Test split\n",
    "# This logic is identical to your training script to ensure the split is the same\n",
    "X_train, X_temp, y_train, y_temp = train_test_split(\n",
    "    X, y, test_size=0.3, stratify=y, random_state=42\n",
    ")\n",
    "X_val, X_test, y_val, y_test = train_test_split(\n",
    "    X_temp, y_temp, test_size=0.5, stratify=y_temp, random_state=42\n",
    ")\n",
    "\n",
    "# 3. Save only the test data\n",
    "os.makedirs(\"../data\", exist_ok=True)\n",
    "joblib.dump({\"X_test\": X_test, \"y_test\": y_test}, TEST_DATA_FILE)\n",
    "\n",
    "print(f\"Test data saved to {TEST_DATA_FILE}\")\n"
   ]
  }
 ],
 "metadata": {
  "kernelspec": {
   "display_name": "venv",
   "language": "python",
   "name": "python3"
  },
  "language_info": {
   "codemirror_mode": {
    "name": "ipython",
    "version": 3
   },
   "file_extension": ".py",
   "mimetype": "text/x-python",
   "name": "python",
   "nbconvert_exporter": "python",
   "pygments_lexer": "ipython3",
   "version": "3.11.5"
  }
 },
 "nbformat": 4,
 "nbformat_minor": 2
}
